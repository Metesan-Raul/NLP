{
  "nbformat": 4,
  "nbformat_minor": 0,
  "metadata": {
    "colab": {
      "name": "Metesan_Raul-Petru_Tema_Lab_1",
      "provenance": [],
      "collapsed_sections": [],
      "authorship_tag": "ABX9TyM9uO6QejFKD0tt5PxkSglu",
      "include_colab_link": true
    },
    "kernelspec": {
      "name": "python3",
      "display_name": "Python 3"
    },
    "language_info": {
      "name": "python"
    }
  },
  "cells": [
    {
      "cell_type": "markdown",
      "metadata": {
        "id": "view-in-github",
        "colab_type": "text"
      },
      "source": [
        "<a href=\"https://colab.research.google.com/github/Metesan-Raul/NLP/blob/main/Metesan_Raul_Petru_Tema_Lab_1.ipynb\" target=\"_parent\"><img src=\"https://colab.research.google.com/assets/colab-badge.svg\" alt=\"Open In Colab\"/></a>"
      ]
    },
    {
      "cell_type": "code",
      "execution_count": 33,
      "metadata": {
        "colab": {
          "base_uri": "https://localhost:8080/"
        },
        "id": "1YLblmK9iYlT",
        "outputId": "cc95f391-e2ca-4945-85a7-4135c37e59d3"
      },
      "outputs": [
        {
          "output_type": "stream",
          "name": "stdout",
          "text": [
            "[nltk_data] Downloading package twitter_samples to /root/nltk_data...\n",
            "[nltk_data]   Package twitter_samples is already up-to-date!\n"
          ]
        },
        {
          "output_type": "execute_result",
          "data": {
            "text/plain": [
              "True"
            ]
          },
          "metadata": {},
          "execution_count": 33
        }
      ],
      "source": [
        "import nltk\n",
        "nltk.download('twitter_samples')\n",
        "\n"
      ]
    },
    {
      "cell_type": "code",
      "source": [
        "from nltk.corpus  import twitter_samples\n",
        "\n",
        "tweets = twitter_samples.strings('positive_tweets.json')\n",
        "tweets = tweets[:25]\n",
        "tweets"
      ],
      "metadata": {
        "colab": {
          "base_uri": "https://localhost:8080/"
        },
        "id": "8NuVqSYTikLl",
        "outputId": "8acaf2b5-40d6-4f2b-c55c-3226e2050986"
      },
      "execution_count": 34,
      "outputs": [
        {
          "output_type": "execute_result",
          "data": {
            "text/plain": [
              "['#FollowFriday @France_Inte @PKuchly57 @Milipol_Paris for being top engaged members in my community this week :)',\n",
              " '@Lamb2ja Hey James! How odd :/ Please call our Contact Centre on 02392441234 and we will be able to assist you :) Many thanks!',\n",
              " '@DespiteOfficial we had a listen last night :) As You Bleed is an amazing track. When are you in Scotland?!',\n",
              " '@97sides CONGRATS :)',\n",
              " 'yeaaaah yippppy!!!  my accnt verified rqst has succeed got a blue tick mark on my fb profile :) in 15 days',\n",
              " '@BhaktisBanter @PallaviRuhail This one is irresistible :)\\n#FlipkartFashionFriday http://t.co/EbZ0L2VENM',\n",
              " \"We don't like to keep our lovely customers waiting for long! We hope you enjoy! Happy Friday! - LWWF :) https://t.co/smyYriipxI\",\n",
              " '@Impatientraider On second thought, there’s just not enough time for a DD :) But new shorts entering system. Sheep must be buying.',\n",
              " 'Jgh , but we have to go to Bayan :D bye',\n",
              " 'As an act of mischievousness, am calling the ETL layer of our in-house warehousing app Katamari.\\n\\nWell… as the name implies :p.',\n",
              " '#FollowFriday @wncer1 @Defense_gouv for being top influencers in my community this week :)',\n",
              " \"Who Wouldn't Love These Big....Juicy....Selfies :) - http://t.co/QVzjgd1uFo http://t.co/oWBL11eQRY\",\n",
              " '@Mish23615351  follow @jnlazts &amp; http://t.co/RCvcYYO0Iq follow u back :)',\n",
              " \"@jjulieredburn Perfect, so you already know what's waiting for you :)\",\n",
              " 'Great new opportunity for junior triathletes aged 12 and 13 at the Gatorade series! Get your entries in :) http://t.co/of3DyOzML0',\n",
              " 'Laying out a greetings card range for print today - love my job :-)',\n",
              " \"Friend's lunch... yummmm :)\\n#Nostalgia #TBS #KU.\",\n",
              " \"@RookieSenpai @arcadester it is the id conflict thanks for the help :D here's the screenshot of it working\",\n",
              " '@oohdawg_ Hi liv :))',\n",
              " 'Hello I need to know something can u fm me on Twitter?? — sure thing :) dm me x http://t.co/W6Dy130BV7',\n",
              " '#FollowFriday @MBandScott_ @Eric_FLE @pointsolutions3 for being top new followers in my community this week :)',\n",
              " \"@rossbreadmore I've heard the Four Seasons is pretty dope. Penthouse, obvs #Gobigorgohome\\nHave fun y'all :)\",\n",
              " '@gculloty87 Yeah I suppose she was lol! Chat in a bit just off out x :))',\n",
              " 'Hello :) Get Youth Job Opportunities follow &gt;&gt; @tolajobjobs @maphisa301',\n",
              " \"💅🏽💋 - :)))) haven't seen you in years\"]"
            ]
          },
          "metadata": {},
          "execution_count": 34
        }
      ]
    },
    {
      "cell_type": "code",
      "source": [
        "!pip install num2words\n",
        "!pip install emoji\n",
        "import re\n",
        "from num2words import num2words\n",
        "import emoji\n",
        "\n"
      ],
      "metadata": {
        "colab": {
          "base_uri": "https://localhost:8080/"
        },
        "id": "neyjATS8k836",
        "outputId": "e8404bed-e9fd-4116-fe5e-852a53bf1303"
      },
      "execution_count": 35,
      "outputs": [
        {
          "output_type": "stream",
          "name": "stdout",
          "text": [
            "Collecting num2words\n",
            "  Downloading num2words-0.5.10-py3-none-any.whl (101 kB)\n",
            "\u001b[?25l\r\u001b[K     |███▎                            | 10 kB 24.7 MB/s eta 0:00:01\r\u001b[K     |██████▌                         | 20 kB 30.0 MB/s eta 0:00:01\r\u001b[K     |█████████▊                      | 30 kB 15.1 MB/s eta 0:00:01\r\u001b[K     |█████████████                   | 40 kB 11.3 MB/s eta 0:00:01\r\u001b[K     |████████████████▏               | 51 kB 8.1 MB/s eta 0:00:01\r\u001b[K     |███████████████████▍            | 61 kB 8.6 MB/s eta 0:00:01\r\u001b[K     |██████████████████████▋         | 71 kB 7.1 MB/s eta 0:00:01\r\u001b[K     |█████████████████████████▉      | 81 kB 7.9 MB/s eta 0:00:01\r\u001b[K     |█████████████████████████████   | 92 kB 7.1 MB/s eta 0:00:01\r\u001b[K     |████████████████████████████████| 101 kB 4.9 MB/s \n",
            "\u001b[?25hRequirement already satisfied: docopt>=0.6.2 in /usr/local/lib/python3.7/dist-packages (from num2words) (0.6.2)\n",
            "Installing collected packages: num2words\n",
            "Successfully installed num2words-0.5.10\n",
            "Collecting emoji\n",
            "  Downloading emoji-1.6.1.tar.gz (170 kB)\n",
            "\u001b[K     |████████████████████████████████| 170 kB 6.7 MB/s \n",
            "\u001b[?25hBuilding wheels for collected packages: emoji\n",
            "  Building wheel for emoji (setup.py) ... \u001b[?25l\u001b[?25hdone\n",
            "  Created wheel for emoji: filename=emoji-1.6.1-py3-none-any.whl size=169313 sha256=0609978e94f5ac74be46019646fd7c4bead5c750206c9bc80ab89af86520a36f\n",
            "  Stored in directory: /root/.cache/pip/wheels/ea/5f/d3/03d313ddb3c2a1a427bb4690f1621eea60fe6f2a30cc95940f\n",
            "Successfully built emoji\n",
            "Installing collected packages: emoji\n",
            "Successfully installed emoji-1.6.1\n"
          ]
        }
      ]
    },
    {
      "cell_type": "code",
      "source": [
        "import nltk\n",
        "nltk.download('punkt')\n",
        "from nltk import word_tokenize\n",
        "import string\n",
        "nltk.download('stopwords')\n",
        "from nltk.corpus import stopwords\n",
        "from nltk.stem import PorterStemmer"
      ],
      "metadata": {
        "colab": {
          "base_uri": "https://localhost:8080/"
        },
        "id": "rYQEaYgjmer6",
        "outputId": "ecb0e4bc-884b-4f53-c7c7-4a02040548db"
      },
      "execution_count": 62,
      "outputs": [
        {
          "output_type": "stream",
          "name": "stdout",
          "text": [
            "[nltk_data] Downloading package punkt to /root/nltk_data...\n",
            "[nltk_data]   Package punkt is already up-to-date!\n",
            "[nltk_data] Downloading package stopwords to /root/nltk_data...\n",
            "[nltk_data]   Package stopwords is already up-to-date!\n"
          ]
        }
      ]
    },
    {
      "cell_type": "code",
      "source": [
        "def preprocess(tweets):\n",
        "  twet=[]\n",
        "  for tweet in tweets:\n",
        "    tweet=tweet.lower()\n",
        "    tweet = re.sub(r'http\\S+','', tweet)\n",
        "    tweet=re.sub(' \\d+', '', tweet)\n",
        "    emoji.get_emoji_regexp().sub(u'', tweet)\n",
        "    tweet = ' '.join([num2words(word) if word.isdigit() else word for word in tweet.split()])\n",
        "    emoj = re.compile(\"[\"\n",
        "    u\"\\U0001F600-\\U0001F64F\"  \n",
        "    u\"\\U0001F300-\\U0001F5FF\"  \n",
        "    u\"\\U0001F680-\\U0001F6FF\"  \n",
        "    u\"\\U0001F1E0-\\U0001F1FF\"  \n",
        "    u\"\\U00002500-\\U00002BEF\" \n",
        "    u\"\\U00002702-\\U000027B0\"\n",
        "    u\"\\U00002702-\\U000027B0\"\n",
        "    u\"\\U000024C2-\\U0001F251\"\n",
        "    u\"\\U0001f926-\\U0001f937\"\n",
        "    u\"\\U00010000-\\U0010ffff\"\n",
        "    u\"\\u2640-\\u2642\" \n",
        "    u\"\\u2600-\\u2B55\"\n",
        "    u\"\\u200d\"\n",
        "    u\"\\u23cf\"\n",
        "    u\"\\u23e9\"\n",
        "    u\"\\u231a\"\n",
        "    u\"\\ufe0f\"\n",
        "    u\"\\u3030\"\n",
        "    \"]+\", re.UNICODE)\n",
        "\n",
        "    tweet = re.sub(emoj, '', tweet)\n",
        "    tweet = re.sub(r'[^\\w\\s]','',tweet)\n",
        "    tweet = tweet.translate(str.maketrans('', '', string.punctuation))\n",
        "    tweet = re.sub(' +', ' ', tweet)\n",
        "    tweet = ''.join([i for i in tweet if not i.isdigit()])\n",
        "    \n",
        "    tokenized_tweet_nltk = word_tokenize(tweet)\n",
        "    stop_words_nltk = set(stopwords.words('english'))\n",
        "    tokenized_tweet_without_stopwords = [i for i in tokenized_tweet_nltk if not i in stop_words_nltk]\n",
        "    ps = PorterStemmer()\n",
        "    for word in tokenized_tweet_without_stopwords:\n",
        "     twet.append(ps.stem(word))\n",
        "  \n",
        "  return twet\n",
        "preprocess(tweets)"
      ],
      "metadata": {
        "colab": {
          "base_uri": "https://localhost:8080/"
        },
        "id": "SeIYRKuhj2qK",
        "outputId": "a4fcf9e8-139d-4327-a34f-605029579afe"
      },
      "execution_count": 83,
      "outputs": [
        {
          "output_type": "execute_result",
          "data": {
            "text/plain": [
              "['followfriday',\n",
              " 'franceint',\n",
              " 'pkuchli',\n",
              " 'milipolpari',\n",
              " 'top',\n",
              " 'engag',\n",
              " 'member',\n",
              " 'commun',\n",
              " 'week',\n",
              " 'lambja',\n",
              " 'hey',\n",
              " 'jame',\n",
              " 'odd',\n",
              " 'pleas',\n",
              " 'call',\n",
              " 'contact',\n",
              " 'centr',\n",
              " 'abl',\n",
              " 'assist',\n",
              " 'mani',\n",
              " 'thank',\n",
              " 'despiteoffici',\n",
              " 'listen',\n",
              " 'last',\n",
              " 'night',\n",
              " 'bleed',\n",
              " 'amaz',\n",
              " 'track',\n",
              " 'scotland',\n",
              " 'side',\n",
              " 'congrat',\n",
              " 'yeaaaah',\n",
              " 'yippppi',\n",
              " 'accnt',\n",
              " 'verifi',\n",
              " 'rqst',\n",
              " 'succeed',\n",
              " 'got',\n",
              " 'blue',\n",
              " 'tick',\n",
              " 'mark',\n",
              " 'fb',\n",
              " 'profil',\n",
              " 'day',\n",
              " 'bhaktisbant',\n",
              " 'pallaviruhail',\n",
              " 'one',\n",
              " 'irresist',\n",
              " 'flipkartfashionfriday',\n",
              " 'dont',\n",
              " 'like',\n",
              " 'keep',\n",
              " 'love',\n",
              " 'custom',\n",
              " 'wait',\n",
              " 'long',\n",
              " 'hope',\n",
              " 'enjoy',\n",
              " 'happi',\n",
              " 'friday',\n",
              " 'lwwf',\n",
              " 'impatientraid',\n",
              " 'second',\n",
              " 'thought',\n",
              " 'there',\n",
              " 'enough',\n",
              " 'time',\n",
              " 'dd',\n",
              " 'new',\n",
              " 'short',\n",
              " 'enter',\n",
              " 'system',\n",
              " 'sheep',\n",
              " 'must',\n",
              " 'buy',\n",
              " 'jgh',\n",
              " 'go',\n",
              " 'bayan',\n",
              " 'bye',\n",
              " 'act',\n",
              " 'mischiev',\n",
              " 'call',\n",
              " 'etl',\n",
              " 'layer',\n",
              " 'inhous',\n",
              " 'wareh',\n",
              " 'app',\n",
              " 'katamari',\n",
              " 'well',\n",
              " 'name',\n",
              " 'impli',\n",
              " 'p',\n",
              " 'followfriday',\n",
              " 'wncer',\n",
              " 'defensegouv',\n",
              " 'top',\n",
              " 'influenc',\n",
              " 'commun',\n",
              " 'week',\n",
              " 'wouldnt',\n",
              " 'love',\n",
              " 'bigjuicyselfi',\n",
              " 'mish',\n",
              " 'follow',\n",
              " 'jnlazt',\n",
              " 'amp',\n",
              " 'follow',\n",
              " 'u',\n",
              " 'back',\n",
              " 'jjulieredburn',\n",
              " 'perfect',\n",
              " 'alreadi',\n",
              " 'know',\n",
              " 'what',\n",
              " 'wait',\n",
              " 'great',\n",
              " 'new',\n",
              " 'opportun',\n",
              " 'junior',\n",
              " 'triathlet',\n",
              " 'age',\n",
              " 'gatorad',\n",
              " 'seri',\n",
              " 'get',\n",
              " 'entri',\n",
              " 'lay',\n",
              " 'greet',\n",
              " 'card',\n",
              " 'rang',\n",
              " 'print',\n",
              " 'today',\n",
              " 'love',\n",
              " 'job',\n",
              " 'friend',\n",
              " 'lunch',\n",
              " 'yummmm',\n",
              " 'nostalgia',\n",
              " 'tb',\n",
              " 'ku',\n",
              " 'rookiesenpai',\n",
              " 'arcadest',\n",
              " 'id',\n",
              " 'conflict',\n",
              " 'thank',\n",
              " 'help',\n",
              " 'here',\n",
              " 'screenshot',\n",
              " 'work',\n",
              " 'oohdawg',\n",
              " 'hi',\n",
              " 'liv',\n",
              " 'hello',\n",
              " 'need',\n",
              " 'know',\n",
              " 'someth',\n",
              " 'u',\n",
              " 'fm',\n",
              " 'twitter',\n",
              " 'sure',\n",
              " 'thing',\n",
              " 'dm',\n",
              " 'x',\n",
              " 'followfriday',\n",
              " 'mbandscott',\n",
              " 'ericfl',\n",
              " 'pointsolut',\n",
              " 'top',\n",
              " 'new',\n",
              " 'follow',\n",
              " 'commun',\n",
              " 'week',\n",
              " 'rossbreadmor',\n",
              " 'ive',\n",
              " 'heard',\n",
              " 'four',\n",
              " 'season',\n",
              " 'pretti',\n",
              " 'dope',\n",
              " 'penthous',\n",
              " 'obv',\n",
              " 'gobigorgohom',\n",
              " 'fun',\n",
              " 'yall',\n",
              " 'gculloti',\n",
              " 'yeah',\n",
              " 'suppos',\n",
              " 'lol',\n",
              " 'chat',\n",
              " 'bit',\n",
              " 'x',\n",
              " 'hello',\n",
              " 'get',\n",
              " 'youth',\n",
              " 'job',\n",
              " 'opportun',\n",
              " 'follow',\n",
              " 'gtgt',\n",
              " 'tolajobjob',\n",
              " 'maphisa',\n",
              " 'havent',\n",
              " 'seen',\n",
              " 'year']"
            ]
          },
          "metadata": {},
          "execution_count": 83
        }
      ]
    }
  ]
}